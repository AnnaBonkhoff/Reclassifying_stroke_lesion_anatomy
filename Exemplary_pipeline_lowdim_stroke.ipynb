{
 "cells": [
  {
   "cell_type": "code",
   "execution_count": null,
   "metadata": {},
   "outputs": [],
   "source": [
    "from sklearn.ensemble import GradientBoostingClassifier\n",
    "from sklearn.decomposition import NMF\n",
    "from sklearn.cluster import AgglomerativeClustering\n",
    "import pandas as pd\n",
    "import numpy as np"
   ]
  },
  {
   "cell_type": "code",
   "execution_count": null,
   "metadata": {},
   "outputs": [],
   "source": [
    "no_sbj = 1333 # no. of subjects\n",
    "nmf_components = 50 # dimensions of the derived Non-negative matrix factorization embedding\n",
    "perplexity = 30.0 # t-sne settings\n",
    "tsne_components = 2 # dimensions of t-sne embedding\n",
    "ward_clusters = 30 # estimated clusters during Agglomerative Clustering\n"
   ]
  },
  {
   "cell_type": "code",
   "execution_count": null,
   "metadata": {},
   "outputs": [],
   "source": [
    "# Non-negative matrix factorization step to 50 dimensions\n",
    "nmf = NMF(init='random', random_state=0, n_components=nmf_components)\n",
    "data_nmf_transformed = nmf.fit_transform(lesion_data_gaussian) # (smoothed) lesion segmentations are represented as 1D-arrays (with one row per patient)"
   ]
  },
  {
   "cell_type": "code",
   "execution_count": null,
   "metadata": {},
   "outputs": [],
   "source": [
    "# T-sne step to 2 dimensions \n",
    "tsne = manifold.TSNE(n_components=tsne_components, perplexity=perplexity, init='pca', random_state=0)\n",
    "data_tsne_transformed = tsne.fit_transform(data_nmf_transformed)"
   ]
  },
  {
   "cell_type": "code",
   "execution_count": null,
   "metadata": {},
   "outputs": [],
   "source": [
    "# Ward clustering step to 30 clusters\n",
    "ward = AgglomerativeClustering(n_clusters=ward_clusters)\n",
    "ward.fit_predict(data_tsne_transformed)\n",
    "ward_labels = ward.labels_"
   ]
  }
 ],
 "metadata": {
  "kernelspec": {
   "display_name": "Python 3",
   "language": "python",
   "name": "python3"
  },
  "language_info": {
   "codemirror_mode": {
    "name": "ipython",
    "version": 3
   },
   "file_extension": ".py",
   "mimetype": "text/x-python",
   "name": "python",
   "nbconvert_exporter": "python",
   "pygments_lexer": "ipython3",
   "version": "3.7.1"
  }
 },
 "nbformat": 4,
 "nbformat_minor": 4
}
